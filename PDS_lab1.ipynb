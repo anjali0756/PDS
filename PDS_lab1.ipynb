{
  "nbformat": 4,
  "nbformat_minor": 0,
  "metadata": {
    "colab": {
      "provenance": [],
      "authorship_tag": "ABX9TyNosm2SzRklSNY75un1jyZK",
      "include_colab_link": true
    },
    "kernelspec": {
      "name": "python3",
      "display_name": "Python 3"
    },
    "language_info": {
      "name": "python"
    }
  },
  "cells": [
    {
      "cell_type": "markdown",
      "metadata": {
        "id": "view-in-github",
        "colab_type": "text"
      },
      "source": [
        "<a href=\"https://colab.research.google.com/github/NUKALAMOHANSAIGUPTA/2303A51502_B25/blob/main/PDS_lab1.ipynb\" target=\"_parent\"><img src=\"https://colab.research.google.com/assets/colab-badge.svg\" alt=\"Open In Colab\"/></a>"
      ]
    },
    {
      "cell_type": "code",
      "source": [
        "def factorial(n):\n",
        "  if n==0 or n==1:\n",
        "    return 1\n",
        "  else:\n",
        "    return n*factorial(n-1)\n",
        "number=int(input(\"Enter a number to calculate the factiorial : \"))\n",
        "if number<0:\n",
        "  print(\"factorial not defined\")\n",
        "else:\n",
        "  result=factorial(number)\n",
        "  print(f\"The factorial of {number} is {result}\")"
      ],
      "metadata": {
        "colab": {
          "base_uri": "https://localhost:8080/"
        },
        "id": "YuD7LD0fzHm5",
        "outputId": "e4591efb-c679-4b2d-9230-ec1e46c18871"
      },
      "execution_count": 3,
      "outputs": [
        {
          "output_type": "stream",
          "name": "stdout",
          "text": [
            "Enter a number to calculate the factiorial : 5\n",
            "The factorial of 5 is 120\n"
          ]
        }
      ]
    },
    {
      "cell_type": "code",
      "source": [
        "def factorial(n, depth=0):\n",
        "    indent = \"  \" * depth  # Indentation for visualizing depth\n",
        "    print(f\"{indent}Calling factorial({n})\")\n",
        "\n",
        "    if n == 0 or n == 1:\n",
        "        print(f\"{indent}Base case reached: factorial({n}) = 1\")\n",
        "        return 1\n",
        "    else:\n",
        "        print(f\"{indent}Recursive case: {n} * factorial({n-1})\")\n",
        "        result = n * factorial(n - 1, depth + 1)\n",
        "        print(f\"{indent}Returning: {n} * factorial({n-1}) = {result}\")\n",
        "        return result\n",
        "\n",
        "# Take input from user\n",
        "number = int(input(\"Enter a number to calculate the factorial (≤ 10): \"))\n",
        "\n",
        "# Validate input\n",
        "if number < 0:\n",
        "    print(\"Factorial not defined for negative numbers.\")\n",
        "elif number > 10:\n",
        "    print(\"Please enter a number ≤ 10 to visualize recursion.\")\n",
        "else:\n",
        "    final_result = factorial(number)\n",
        "    print(f\"\\nThe factorial of {number} is {final_result}\")\n"
      ],
      "metadata": {
        "colab": {
          "base_uri": "https://localhost:8080/"
        },
        "id": "W_Q4V4rq5nEv",
        "outputId": "0774388e-b88e-4515-f7fb-44ffc0097ab2"
      },
      "execution_count": 4,
      "outputs": [
        {
          "output_type": "stream",
          "name": "stdout",
          "text": [
            "Enter a number to calculate the factorial (≤ 10): 6\n",
            "Calling factorial(6)\n",
            "Recursive case: 6 * factorial(5)\n",
            "  Calling factorial(5)\n",
            "  Recursive case: 5 * factorial(4)\n",
            "    Calling factorial(4)\n",
            "    Recursive case: 4 * factorial(3)\n",
            "      Calling factorial(3)\n",
            "      Recursive case: 3 * factorial(2)\n",
            "        Calling factorial(2)\n",
            "        Recursive case: 2 * factorial(1)\n",
            "          Calling factorial(1)\n",
            "          Base case reached: factorial(1) = 1\n",
            "        Returning: 2 * factorial(1) = 2\n",
            "      Returning: 3 * factorial(2) = 6\n",
            "    Returning: 4 * factorial(3) = 24\n",
            "  Returning: 5 * factorial(4) = 120\n",
            "Returning: 6 * factorial(5) = 720\n",
            "\n",
            "The factorial of 6 is 720\n"
          ]
        }
      ]
    },
    {
      "cell_type": "code",
      "source": [
        "import time\n",
        "import sys\n",
        "\n",
        "# Recursive factorial function\n",
        "def factorial_recursive(n):\n",
        "    if n == 0 or n == 1:\n",
        "        return 1\n",
        "    else:\n",
        "        return n * factorial_recursive(n - 1)\n",
        "\n",
        "# Iterative factorial function\n",
        "def factorial_iterative(n):\n",
        "    result = 1\n",
        "    for i in range(2, n + 1):\n",
        "        result *= i\n",
        "    return result\n",
        "\n",
        "# Input from user\n",
        "number = int(input(\"Enter a number to calculate factorial (≤ 20): \"))\n",
        "\n",
        "# Edge case check\n",
        "if number < 0:\n",
        "    print(\"Factorial is not defined for negative numbers.\")\n",
        "elif number > 20:\n",
        "    print(\"Please enter a number ≤ 20 to avoid long recursion time.\")\n",
        "else:\n",
        "    # Recursive execution time and memory\n",
        "    start_rec = time.time()\n",
        "    rec_result = factorial_recursive(number)\n",
        "    end_rec = time.time()\n",
        "    rec_time = end_rec - start_rec\n",
        "    rec_memory = sys.getsizeof(rec_result)\n",
        "\n",
        "    # Iterative execution time and memory\n",
        "    start_itr = time.time()\n",
        "    itr_result = factorial_iterative(number)\n",
        "    end_itr = time.time()\n",
        "    itr_time = end_itr - start_itr\n",
        "    itr_memory = sys.getsizeof(itr_result)\n",
        "\n",
        "    # Results\n",
        "    print(\"\\n--- Factorial Results ---\")\n",
        "    print(f\"Recursive Result: {rec_result}\")\n",
        "    print(f\"Iterative Result: {itr_result}\")\n",
        "\n",
        "    # Comparison Table\n",
        "    print(\"\\n--- Comparison Table ---\")\n",
        "    print(f\"{'Approach':<12}{'Time (sec)':<15}{'Memory (bytes)'}\")\n",
        "    print(f\"{'-'*40}\")\n",
        "    print(f\"{'Recursive':<12}{rec_time:<15.8f}{rec_memory}\")\n",
        "    print(f\"{'Iterative':<12}{itr_time:<15.8f}{itr_memory}\")\n",
        "\n",
        "    # Comments: Pros and Cons\n",
        "    print(\"\\n--- Pros and Cons ---\")\n",
        "    print(\"Recursive:\")\n",
        "    print(\"- Simpler to write and understand for mathematical problems.\")\n",
        "    print(\"- Consumes more memory (call stack). Risk of stack overflow for large n.\")\n",
        "\n",
        "    print(\"\\nIterative:\")\n",
        "    print(\"- More efficient in memory usage.\")\n",
        "    print(\"- Preferred for large inputs due to no recursion depth limit.\")\n"
      ],
      "metadata": {
        "colab": {
          "base_uri": "https://localhost:8080/"
        },
        "id": "0ITtwIBl5nBZ",
        "outputId": "963cb359-c258-40d5-9951-505c776f4a93"
      },
      "execution_count": 5,
      "outputs": [
        {
          "output_type": "stream",
          "name": "stdout",
          "text": [
            "Enter a number to calculate factorial (≤ 20): 4\n",
            "\n",
            "--- Factorial Results ---\n",
            "Recursive Result: 24\n",
            "Iterative Result: 24\n",
            "\n",
            "--- Comparison Table ---\n",
            "Approach    Time (sec)     Memory (bytes)\n",
            "----------------------------------------\n",
            "Recursive   0.00000358     28\n",
            "Iterative   0.00000811     28\n",
            "\n",
            "--- Pros and Cons ---\n",
            "Recursive:\n",
            "- Simpler to write and understand for mathematical problems.\n",
            "- Consumes more memory (call stack). Risk of stack overflow for large n.\n",
            "\n",
            "Iterative:\n",
            "- More efficient in memory usage.\n",
            "- Preferred for large inputs due to no recursion depth limit.\n"
          ]
        }
      ]
    },
    {
      "cell_type": "code",
      "source": [],
      "metadata": {
        "id": "n6kaEdSF5m8r"
      },
      "execution_count": null,
      "outputs": []
    },
    {
      "cell_type": "code",
      "source": [],
      "metadata": {
        "id": "kbCM-LgVzHiu"
      },
      "execution_count": null,
      "outputs": []
    }
  ]
}