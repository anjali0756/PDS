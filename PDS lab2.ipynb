{
  "nbformat": 4,
  "nbformat_minor": 0,
  "metadata": {
    "colab": {
      "provenance": []
    },
    "kernelspec": {
      "name": "python3",
      "display_name": "Python 3"
    },
    "language_info": {
      "name": "python"
    }
  },
  "cells": [
    {
      "cell_type": "code",
      "source": [
        "import pandas as pd\n"
      ],
      "metadata": {
        "id": "Pt4kEvh4-CMb"
      },
      "execution_count": 1,
      "outputs": []
    },
    {
      "cell_type": "code",
      "source": [
        "data = {\n",
        "    'Order ID': [1001, 1002, 1003, 1004, 1005, 1006],\n",
        "    'Product': ['Laptop', 'Mouse', 'Monitor', 'Keyboard', 'Printer', 'Laptop'],\n",
        "    'Quantity': [1, 10, 2, 5, 3, 1],\n",
        "    'Price': [60000, 500, 15000, 1200, 8000, 60000]\n",
        "}\n",
        "\n",
        "df = pd.DataFrame(data)\n",
        "print(\"Step 1: Original DataFrame\\n\", df)"
      ],
      "metadata": {
        "colab": {
          "base_uri": "https://localhost:8080/"
        },
        "id": "_at-4cPT-CKP",
        "outputId": "6d0422d9-70ba-4c86-9f55-0c72c7d2d575"
      },
      "execution_count": 2,
      "outputs": [
        {
          "output_type": "stream",
          "name": "stdout",
          "text": [
            "Step 1: Original DataFrame\n",
            "    Order ID   Product  Quantity  Price\n",
            "0      1001    Laptop         1  60000\n",
            "1      1002     Mouse        10    500\n",
            "2      1003   Monitor         2  15000\n",
            "3      1004  Keyboard         5   1200\n",
            "4      1005   Printer         3   8000\n",
            "5      1006    Laptop         1  60000\n"
          ]
        }
      ]
    },
    {
      "cell_type": "code",
      "source": [
        "df['Total Sale'] = df['Quantity'] * df['Price']\n",
        "print(\"\\nStep 2: DataFrame with Total Sale column\\n\", df)"
      ],
      "metadata": {
        "colab": {
          "base_uri": "https://localhost:8080/"
        },
        "id": "Sa6Inr31-CIH",
        "outputId": "a83e5ec6-3fed-40d3-cce5-52c58c6b1188"
      },
      "execution_count": 3,
      "outputs": [
        {
          "output_type": "stream",
          "name": "stdout",
          "text": [
            "\n",
            "Step 2: DataFrame with Total Sale column\n",
            "    Order ID   Product  Quantity  Price  Total Sale\n",
            "0      1001    Laptop         1  60000       60000\n",
            "1      1002     Mouse        10    500        5000\n",
            "2      1003   Monitor         2  15000       30000\n",
            "3      1004  Keyboard         5   1200        6000\n",
            "4      1005   Printer         3   8000       24000\n",
            "5      1006    Laptop         1  60000       60000\n"
          ]
        }
      ]
    },
    {
      "cell_type": "code",
      "source": [
        "filtered_df = df[df['Total Sale'] > 1000]\n",
        "print(\"\\nStep 3: Orders with Total Sale > 1000\\n\", filtered_df)\n"
      ],
      "metadata": {
        "colab": {
          "base_uri": "https://localhost:8080/"
        },
        "id": "f1w8THJT-CFo",
        "outputId": "d89519ac-86fd-4223-b30d-34c112ee7f53"
      },
      "execution_count": 4,
      "outputs": [
        {
          "output_type": "stream",
          "name": "stdout",
          "text": [
            "\n",
            "Step 3: Orders with Total Sale > 1000\n",
            "    Order ID   Product  Quantity  Price  Total Sale\n",
            "0      1001    Laptop         1  60000       60000\n",
            "1      1002     Mouse        10    500        5000\n",
            "2      1003   Monitor         2  15000       30000\n",
            "3      1004  Keyboard         5   1200        6000\n",
            "4      1005   Printer         3   8000       24000\n",
            "5      1006    Laptop         1  60000       60000\n"
          ]
        }
      ]
    },
    {
      "cell_type": "code",
      "source": [
        "most_sold_product = df.groupby('Product')['Quantity'].sum().idxmax()\n",
        "print(\"\\nStep 4: Most Sold Product:\", most_sold_product)"
      ],
      "metadata": {
        "colab": {
          "base_uri": "https://localhost:8080/"
        },
        "id": "VwDkjREn-CDR",
        "outputId": "b1505eac-7f68-4bfb-a8fe-b69dd1f2c7df"
      },
      "execution_count": 5,
      "outputs": [
        {
          "output_type": "stream",
          "name": "stdout",
          "text": [
            "\n",
            "Step 4: Most Sold Product: Mouse\n"
          ]
        }
      ]
    },
    {
      "cell_type": "code",
      "source": [
        "df['Discount'] = df['Total Sale'].apply(lambda x: x * 0.10 if x > 20000 else x * 0.05)\n",
        "print(\"\\nStep 5: DataFrame with Discount column\\n\", df)"
      ],
      "metadata": {
        "colab": {
          "base_uri": "https://localhost:8080/"
        },
        "id": "6f5fE5lB-CBC",
        "outputId": "6eb4479b-392b-4c57-cc25-8ce539e2faaa"
      },
      "execution_count": 6,
      "outputs": [
        {
          "output_type": "stream",
          "name": "stdout",
          "text": [
            "\n",
            "Step 5: DataFrame with Discount column\n",
            "    Order ID   Product  Quantity  Price  Total Sale  Discount\n",
            "0      1001    Laptop         1  60000       60000    6000.0\n",
            "1      1002     Mouse        10    500        5000     250.0\n",
            "2      1003   Monitor         2  15000       30000    3000.0\n",
            "3      1004  Keyboard         5   1200        6000     300.0\n",
            "4      1005   Printer         3   8000       24000    2400.0\n",
            "5      1006    Laptop         1  60000       60000    6000.0\n"
          ]
        }
      ]
    },
    {
      "cell_type": "code",
      "source": [
        "output_file = \"sales_summary.xlsx\"\n",
        "df.to_excel(output_file, index=False)\n",
        "print(f\"\\nStep 6: Sales summary exported to '{output_file}'\")"
      ],
      "metadata": {
        "colab": {
          "base_uri": "https://localhost:8080/"
        },
        "id": "wA5agYsR-B-2",
        "outputId": "12f51fcd-53ee-4c76-8379-d4b9638902dd"
      },
      "execution_count": 7,
      "outputs": [
        {
          "output_type": "stream",
          "name": "stdout",
          "text": [
            "\n",
            "Step 6: Sales summary exported to 'sales_summary.xlsx'\n"
          ]
        }
      ]
    },
    {
      "cell_type": "code",
      "source": [],
      "metadata": {
        "id": "0OKfBWJo-B8s"
      },
      "execution_count": null,
      "outputs": []
    }
  ]
}