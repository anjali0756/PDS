{
  "nbformat": 4,
  "nbformat_minor": 0,
  "metadata": {
    "colab": {
      "provenance": []
    },
    "kernelspec": {
      "name": "python3",
      "display_name": "Python 3"
    },
    "language_info": {
      "name": "python"
    }
  },
  "cells": [
    {
      "cell_type": "code",
      "execution_count": 1,
      "metadata": {
        "id": "oALiMYku5XRp"
      },
      "outputs": [],
      "source": [
        "import numpy as np\n",
        "import matplotlib.pyplot as plt"
      ]
    },
    {
      "cell_type": "code",
      "source": [
        "image = np.random.randint(0, 256, (3, 3, 3), dtype=np.uint8)\n",
        "print(\"Original 3D Image Array:\\n\", image)"
      ],
      "metadata": {
        "colab": {
          "base_uri": "https://localhost:8080/"
        },
        "id": "m1ktTPDk8SWj",
        "outputId": "81ebe754-20db-47e7-e664-b79dc182359f"
      },
      "execution_count": 2,
      "outputs": [
        {
          "output_type": "stream",
          "name": "stdout",
          "text": [
            "Original 3D Image Array:\n",
            " [[[ 42 136 150]\n",
            "  [ 27  16  55]\n",
            "  [ 81 165 118]]\n",
            "\n",
            " [[ 21 246  48]\n",
            "  [228  47 254]\n",
            "  [224 172  59]]\n",
            "\n",
            " [[214 209  10]\n",
            "  [ 52  70 234]\n",
            "  [ 80 167 248]]]\n"
          ]
        }
      ]
    },
    {
      "cell_type": "code",
      "source": [
        "red_channel = image[:, :, 0]\n",
        "green_channel = image[:, :, 1]\n",
        "blue_channel = image[:, :, 2]"
      ],
      "metadata": {
        "id": "zR0SQFaR8SZO"
      },
      "execution_count": 3,
      "outputs": []
    },
    {
      "cell_type": "code",
      "source": [
        "print(\"\\nRed Channel:\\n\", red_channel)\n",
        "print(\"\\nGreen Channel:\\n\", green_channel)\n",
        "print(\"\\nBlue Channel:\\n\", blue_channel)"
      ],
      "metadata": {
        "colab": {
          "base_uri": "https://localhost:8080/"
        },
        "id": "eqcta_Bo8ScW",
        "outputId": "916877cb-f8d8-4376-8e0b-e591cef0246a"
      },
      "execution_count": 4,
      "outputs": [
        {
          "output_type": "stream",
          "name": "stdout",
          "text": [
            "\n",
            "Red Channel:\n",
            " [[ 42  27  81]\n",
            " [ 21 228 224]\n",
            " [214  52  80]]\n",
            "\n",
            "Green Channel:\n",
            " [[136  16 165]\n",
            " [246  47 172]\n",
            " [209  70 167]]\n",
            "\n",
            "Blue Channel:\n",
            " [[150  55 118]\n",
            " [ 48 254  59]\n",
            " [ 10 234 248]]\n"
          ]
        }
      ]
    },
    {
      "cell_type": "code",
      "source": [
        "avg_red = np.mean(red_channel)\n",
        "avg_green = np.mean(green_channel)\n",
        "avg_blue = np.mean(blue_channel)"
      ],
      "metadata": {
        "id": "xeGh9SOv8SfB"
      },
      "execution_count": 5,
      "outputs": []
    },
    {
      "cell_type": "code",
      "source": [
        "print(\"\\nAverage Intensities:\")\n",
        "print(f\"Red: {avg_red:.2f}, Green: {avg_green:.2f}, Blue: {avg_blue:.2f}\")\n"
      ],
      "metadata": {
        "colab": {
          "base_uri": "https://localhost:8080/"
        },
        "id": "NKOs5Id88SiA",
        "outputId": "1ef19394-95f6-4400-9dda-206afb6e57c7"
      },
      "execution_count": 6,
      "outputs": [
        {
          "output_type": "stream",
          "name": "stdout",
          "text": [
            "\n",
            "Average Intensities:\n",
            "Red: 107.67, Green: 136.44, Blue: 130.67\n"
          ]
        }
      ]
    },
    {
      "cell_type": "code",
      "source": [
        "brightened_image = np.clip(image + 50, 0, 255).astype(np.uint8)\n",
        "print(\"\\nBrightened Image Array:\\n\", brightened_image)"
      ],
      "metadata": {
        "colab": {
          "base_uri": "https://localhost:8080/"
        },
        "id": "j3gcbiZU8Sk8",
        "outputId": "a0c5a6b9-2c9f-4df4-9c69-4c0f6844f107"
      },
      "execution_count": 7,
      "outputs": [
        {
          "output_type": "stream",
          "name": "stdout",
          "text": [
            "\n",
            "Brightened Image Array:\n",
            " [[[ 92 186 200]\n",
            "  [ 77  66 105]\n",
            "  [131 215 168]]\n",
            "\n",
            " [[ 71  40  98]\n",
            "  [ 22  97  48]\n",
            "  [ 18 222 109]]\n",
            "\n",
            " [[  8   3  60]\n",
            "  [102 120  28]\n",
            "  [130 217  42]]]\n"
          ]
        }
      ]
    },
    {
      "cell_type": "code",
      "source": [
        "fig, axes = plt.subplots(1, 5, figsize=(15, 5))\n"
      ],
      "metadata": {
        "colab": {
          "base_uri": "https://localhost:8080/",
          "height": 451
        },
        "id": "a6V80dvd8Snj",
        "outputId": "85938768-46af-47e3-e8fd-f76b91b74cc8"
      },
      "execution_count": 8,
      "outputs": [
        {
          "output_type": "display_data",
          "data": {
            "text/plain": [
              "<Figure size 1500x500 with 5 Axes>"
            ],
            "image/png": "[encoded data removed]"
          },
          "metadata": {}
        }
      ]
    },
    {
      "cell_type": "code",
      "source": [
        "axes[0].imshow(image)\n",
        "axes[0].set_title(\"Original Image\")\n",
        "axes[0].axis(\"off\")"
      ],
      "metadata": {
        "colab": {
          "base_uri": "https://localhost:8080/"
        },
        "id": "aBjREUiq8StD",
        "outputId": "42c84adb-7303-4c19-cfe3-15bbda47ff8e"
      },
      "execution_count": 9,
      "outputs": [
        {
          "output_type": "execute_result",
          "data": {
            "text/plain": [
              "(np.float64(-0.5), np.float64(2.5), np.float64(2.5), np.float64(-0.5))"
            ]
          },
          "metadata": {},
          "execution_count": 9
        }
      ]
    },
    {
      "cell_type": "code",
      "source": [
        "axes[1].imshow(red_channel, cmap=\"Reds\")\n",
        "axes[1].set_title(\"Red Channel\")\n",
        "axes[1].axis(\"off\")"
      ],
      "metadata": {
        "colab": {
          "base_uri": "https://localhost:8080/"
        },
        "id": "iX62XkCv8Sva",
        "outputId": "995905ff-8865-4bdb-d0a3-caec2e64a391"
      },
      "execution_count": 10,
      "outputs": [
        {
          "output_type": "execute_result",
          "data": {
            "text/plain": [
              "(np.float64(-0.5), np.float64(2.5), np.float64(2.5), np.float64(-0.5))"
            ]
          },
          "metadata": {},
          "execution_count": 10
        }
      ]
    },
    {
      "cell_type": "code",
      "source": [
        "axes[2].imshow(green_channel, cmap=\"Greens\")\n",
        "axes[2].set_title(\"Green Channel\")\n",
        "axes[2].axis(\"off\")\n"
      ],
      "metadata": {
        "colab": {
          "base_uri": "https://localhost:8080/"
        },
        "id": "cKELvyXp8SyR",
        "outputId": "059bc7a6-0118-454b-bbd3-b9126364d509"
      },
      "execution_count": 11,
      "outputs": [
        {
          "output_type": "execute_result",
          "data": {
            "text/plain": [
              "(np.float64(-0.5), np.float64(2.5), np.float64(2.5), np.float64(-0.5))"
            ]
          },
          "metadata": {},
          "execution_count": 11
        }
      ]
    },
    {
      "cell_type": "code",
      "source": [
        "axes[3].imshow(blue_channel, cmap=\"Blues\")\n",
        "axes[3].set_title(\"Blue Channel\")\n",
        "axes[3].axis(\"off\")"
      ],
      "metadata": {
        "colab": {
          "base_uri": "https://localhost:8080/"
        },
        "id": "woJ4OkDy8S1C",
        "outputId": "85ee700a-3d52-44f0-b57a-63b693eda9fb"
      },
      "execution_count": 12,
      "outputs": [
        {
          "output_type": "execute_result",
          "data": {
            "text/plain": [
              "(np.float64(-0.5), np.float64(2.5), np.float64(2.5), np.float64(-0.5))"
            ]
          },
          "metadata": {},
          "execution_count": 12
        }
      ]
    },
    {
      "cell_type": "code",
      "source": [
        "axes[4].imshow(brightened_image)\n",
        "axes[4].set_title(\"Brightened Image\")\n",
        "axes[4].axis(\"off\")\n"
      ],
      "metadata": {
        "colab": {
          "base_uri": "https://localhost:8080/"
        },
        "id": "BYkPpy3T8S3o",
        "outputId": "e66f727f-547e-441b-a6cf-b07f1456f07f"
      },
      "execution_count": 13,
      "outputs": [
        {
          "output_type": "execute_result",
          "data": {
            "text/plain": [
              "(np.float64(-0.5), np.float64(2.5), np.float64(2.5), np.float64(-0.5))"
            ]
          },
          "metadata": {},
          "execution_count": 13
        }
      ]
    },
    {
      "cell_type": "code",
      "source": [
        "plt.show()"
      ],
      "metadata": {
        "id": "BKWW_gNf8S6P"
      },
      "execution_count": 14,
      "outputs": []
    }
  ]
}