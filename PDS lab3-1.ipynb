{
  "nbformat": 4,
  "nbformat_minor": 0,
  "metadata": {
    "colab": {
      "provenance": []
    },
    "kernelspec": {
      "name": "python3",
      "display_name": "Python 3"
    },
    "language_info": {
      "name": "python"
    }
  },
  "cells": [
    {
      "cell_type": "code",
      "execution_count": 1,
      "metadata": {
        "id": "Kk7OGLoI8GAJ"
      },
      "outputs": [],
      "source": [
        "import numpy as np\n",
        "import pandas as pd\n",
        "import matplotlib.pyplot as plt\n",
        "import json"
      ]
    },
    {
      "cell_type": "code",
      "source": [
        "rng = np.random.default_rng(42)\n",
        "scores = rng.integers(low=50, high=101, size=(4, 4))"
      ],
      "metadata": {
        "id": "caZKI1FC8LIx"
      },
      "execution_count": 2,
      "outputs": []
    },
    {
      "cell_type": "code",
      "source": [
        "row_means = scores.mean(axis=1)\n",
        "col_means = scores.mean(axis=0)"
      ],
      "metadata": {
        "id": "XoU9hG2Y8LFc"
      },
      "execution_count": 3,
      "outputs": []
    },
    {
      "cell_type": "code",
      "source": [
        "global_mean = scores.mean()\n",
        "global_std = scores.std()\n",
        "global_var = scores.var()\n",
        "\n",
        "row_std = scores.std(axis=1)\n",
        "col_std = scores.std(axis=0)\n",
        "\n",
        "row_var = scores.var(axis=1)\n",
        "col_var = scores.var(axis=0)"
      ],
      "metadata": {
        "id": "DS1u4qiY8LCv"
      },
      "execution_count": 4,
      "outputs": []
    },
    {
      "cell_type": "code",
      "source": [
        "global_max = scores.max()\n",
        "global_min = scores.min()\n",
        "\n",
        "max_flat_index = scores.argmax()\n",
        "min_flat_index = scores.argmin()\n",
        "max_rc = np.unravel_index(max_flat_index, scores.shape)\n",
        "min_rc = np.unravel_index(min_flat_index, scores.shape)"
      ],
      "metadata": {
        "id": "kmGz-MfN8LAN"
      },
      "execution_count": 5,
      "outputs": []
    },
    {
      "cell_type": "code",
      "source": [
        "df = pd.DataFrame(scores, columns=[f\"Test{j+1}\" for j in range(scores.shape[1])])\n",
        "df[\"Row Mean\"] = row_means.round(2)\n",
        "\n",
        "col_means_series = pd.Series(list(col_means) + [np.nan], index=df.columns, name=\"Col Mean\").round(2)\n",
        "df_with_col_means = pd.concat([df, pd.DataFrame([col_means_series])], ignore_index=True)\n",
        "\n",
        "print(\"=== 4x4 Test Scores Statistical Summary ===\")\n",
        "print(\"Scores Array:\\n\", scores)\n",
        "print(\"\\nRow-wise Means:\", np.round(row_means, 2))\n",
        "print(\"Column-wise Means:\", np.round(col_means, 2))\n",
        "print(\"\\nGlobal Mean:\", round(global_mean, 2))\n",
        "print(\"Global Std:\", round(global_std, 2))\n",
        "print(\"Global Var:\", round(global_var, 2))\n",
        "print(\"\\nRow-wise Std:\", np.round(row_std, 2))\n",
        "print(\"Column-wise Std:\", np.round(col_std, 2))\n",
        "print(\"Row-wise Var:\", np.round(row_var, 2))\n",
        "print(\"Column-wise Var:\", np.round(col_var, 2))\n",
        "print(\"\\nGlobal Max:\", global_max, \"at index (row, col) =\", max_rc)\n",
        "print(\"Global Min:\", global_min, \"at index (row, col) =\", min_rc)\n"
      ],
      "metadata": {
        "colab": {
          "base_uri": "https://localhost:8080/"
        },
        "id": "DjQt-e8X8K9x",
        "outputId": "5b921669-c8e0-46b8-d8cf-2bcb9e2e5d8b"
      },
      "execution_count": 6,
      "outputs": [
        {
          "output_type": "stream",
          "name": "stdout",
          "text": [
            "=== 4x4 Test Scores Statistical Summary ===\n",
            "Scores Array:\n",
            " [[54 89 83 72]\n",
            " [72 93 54 85]\n",
            " [60 54 76 99]\n",
            " [87 88 86 90]]\n",
            "\n",
            "Row-wise Means: [74.5  76.   72.25 87.75]\n",
            "Column-wise Means: [68.25 81.   74.75 86.5 ]\n",
            "\n",
            "Global Mean: 77.62\n",
            "Global Std: 14.53\n",
            "Global Var: 210.98\n",
            "\n",
            "Row-wise Std: [13.31 14.75 17.41  1.48]\n",
            "Column-wise Std: [12.62 15.7  12.52  9.76]\n",
            "Row-wise Var: [177.25 217.5  303.19   2.19]\n",
            "Column-wise Var: [159.19 246.5  156.69  95.25]\n",
            "\n",
            "Global Max: 99 at index (row, col) = (np.int64(2), np.int64(3))\n",
            "Global Min: 54 at index (row, col) = (np.int64(0), np.int64(0))\n"
          ]
        }
      ]
    },
    {
      "cell_type": "code",
      "source": [
        "df_with_col_means.to_csv(\"test_scores_4x4.csv\", index=False)"
      ],
      "metadata": {
        "id": "-9XdvNl18K7S"
      },
      "execution_count": 7,
      "outputs": []
    },
    {
      "cell_type": "code",
      "source": [
        "report_lines = []\n",
        "report_lines.append(\"=== 4x4 Test Scores Statistical Summary ===\")\n",
        "report_lines.append(f\"Scores Array:\\n{scores}\")\n",
        "report_lines.append(\"\")\n",
        "report_lines.append(f\"Row-wise Means: {np.round(row_means, 2)}\")\n",
        "report_lines.append(f\"Column-wise Means: {np.round(col_means, 2)}\")\n",
        "report_lines.append(\"\")\n",
        "report_lines.append(f\"Global Mean: {global_mean:.2f}\")\n",
        "report_lines.append(f\"Global Std (ddof=0): {global_std:.2f}\")\n",
        "report_lines.append(f\"Global Var (ddof=0): {global_var:.2f}\")\n",
        "report_lines.append(\"\")\n",
        "report_lines.append(f\"Row-wise Std: {np.round(row_std, 2)}\")\n",
        "report_lines.append(f\"Column-wise Std: {np.round(col_std, 2)}\")\n",
        "report_lines.append(f\"Row-wise Var: {np.round(row_var, 2)}\")\n",
        "report_lines.append(f\"Column-wise Var: {np.round(col_var, 2)}\")\n",
        "report_lines.append(\"\")\n",
        "report_lines.append(f\"Global Max: {global_max} at index (row, col) = {max_rc}\")\n",
        "report_lines.append(f\"Global Min: {global_min} at index (row, col) = {min_rc}\")\n",
        "\n",
        "with open(\"test_scores_summary.txt\", \"w\") as f:\n",
        "    f.write(\"\\n\".join(report_lines))"
      ],
      "metadata": {
        "id": "0-Cz41tO8K47"
      },
      "execution_count": 8,
      "outputs": []
    },
    {
      "cell_type": "code",
      "source": [
        "fig, ax = plt.subplots(figsize=(6, 5))\n",
        "im = ax.imshow(scores)"
      ],
      "metadata": {
        "colab": {
          "base_uri": "https://localhost:8080/",
          "height": 451
        },
        "id": "STZfbKAK8hVI",
        "outputId": "e8739156-9bc4-4ce1-a1dc-d39de83eea53"
      },
      "execution_count": 9,
      "outputs": [
        {
          "output_type": "display_data",
          "data": {
            "text/plain": [
              "<Figure size 600x500 with 1 Axes>"
            ],
            "image/png": "[encoded data removed]"
          },
          "metadata": {}
        }
      ]
    },
    {
      "cell_type": "code",
      "source": [
        "for i in range(scores.shape[0]):\n",
        "    for j in range(scores.shape[1]):\n",
        "        ax.text(j, i, str(scores[i, j]), ha=\"center\", va=\"center\")"
      ],
      "metadata": {
        "id": "y2QAtEZ38hSb"
      },
      "execution_count": 10,
      "outputs": []
    },
    {
      "cell_type": "code",
      "source": [
        "ax.scatter([max_rc[1]], [max_rc[0]], marker=\"o\", s=120, facecolors=\"none\", edgecolors=\"black\", linewidths=2)\n",
        "ax.scatter([min_rc[1]], [min_rc[0]], marker=\"s\", s=120, facecolors=\"none\", edgecolors=\"black\", linewidths=2)\n",
        "\n",
        "ax.set_xticks(range(scores.shape[1]))\n",
        "ax.set_yticks(range(scores.shape[0]))\n",
        "ax.set_xticklabels([f\"Test{j+1}\" for j in range(scores.shape[1])])\n",
        "ax.set_yticklabels([f\"Stu{i+1}\" for i in range(scores.shape[0])])\n",
        "ax.set_title(\"4x4 Test Scores Heatmap (circle=max, square=min)\")\n",
        "plt.tight_layout()\n",
        "plt.savefig(\"test_scores_heatmap.png\", dpi=200)\n",
        "plt.show()"
      ],
      "metadata": {
        "colab": {
          "base_uri": "https://localhost:8080/",
          "height": 34
        },
        "id": "vk2QrQ0U8hQY",
        "outputId": "5c1d7fd9-f632-4a00-bf4b-db1d3bb75f0a"
      },
      "execution_count": 11,
      "outputs": [
        {
          "output_type": "display_data",
          "data": {
            "text/plain": [
              "<Figure size 640x480 with 0 Axes>"
            ]
          },
          "metadata": {}
        }
      ]
    },
    {
      "cell_type": "code",
      "source": [
        "metrics = {\n",
        "    \"scores\": scores.tolist(),\n",
        "    \"row_means\": np.round(row_means, 2).tolist(),\n",
        "    \"col_means\": np.round(col_means, 2).tolist(),\n",
        "    \"global\": {\"mean\": float(global_mean), \"std\": float(global_std), \"var\": float(global_var)},\n",
        "    \"global_max\": {\"value\": int(global_max), \"index\": [int(x) for x in max_rc]},\n",
        "    \"global_min\": {\"value\": int(global_min), \"index\": [int(x) for x in min_rc]},\n",
        "}\n",
        "with open(\"test_scores_metrics.json\", \"w\") as jf:\n",
        "    json.dump(metrics, jf, indent=2)"
      ],
      "metadata": {
        "id": "dYrGyblm8zLw"
      },
      "execution_count": 16,
      "outputs": []
    }
  ]
}