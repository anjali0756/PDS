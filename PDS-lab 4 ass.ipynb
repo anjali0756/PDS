{
  "nbformat": 4,
  "nbformat_minor": 0,
  "metadata": {
    "colab": {
      "provenance": []
    },
    "kernelspec": {
      "name": "python3",
      "display_name": "Python 3"
    },
    "language_info": {
      "name": "python"
    }
  },
  "cells": [
    {
      "cell_type": "code",
      "source": [
        "import pandas as pd\n"
      ],
      "metadata": {
        "id": "S4kRIr7RCONJ"
      },
      "execution_count": 7,
      "outputs": []
    },
    {
      "cell_type": "code",
      "source": [
        "data = {\n",
        "    \"User_ID\": [101, 102, 103, 104, 105],\n",
        "    \"Course_Name\": [\n",
        "        \"Python for Data Science\",\n",
        "        \"Python for Data Science\",\n",
        "        \"Data Structures\",\n",
        "        \"Python for Data Science\",\n",
        "        \"Machine Learning\"\n",
        "    ],\n",
        "    \"Rating\": [5, None, 3, 4, 5],\n",
        "    \"Feedback\": [\n",
        "        \"Great course, very practical!\",\n",
        "        \"Loved it but missed some parts\",\n",
        "        \"Good intro to DS\",\n",
        "        \"Well explained and detailed\",\n",
        "        \"Excellent ML content\"\n",
        "    ],\n",
        "    \"Date\": [\n",
        "        \"2025-08-01\",\n",
        "        \"2025-08-05\",\n",
        "        \"2025-08-07\",\n",
        "        \"2025-08-10\",\n",
        "        \"2025-08-15\"\n",
        "    ]\n",
        "}\n"
      ],
      "metadata": {
        "id": "1mJS5ijOZ7iC"
      },
      "execution_count": 8,
      "outputs": []
    },
    {
      "cell_type": "code",
      "source": [
        "df = pd.DataFrame(data)"
      ],
      "metadata": {
        "id": "33jQmiIgZ7lP"
      },
      "execution_count": 9,
      "outputs": []
    },
    {
      "cell_type": "code",
      "source": [
        "df = df.dropna(subset=[\"Rating\"])"
      ],
      "metadata": {
        "id": "mQC26KhLCOU-"
      },
      "execution_count": 10,
      "outputs": []
    },
    {
      "cell_type": "code",
      "source": [
        "filtered_feedback = df[\n",
        "    (df[\"Course_Name\"] == \"Python for Data Science\") &\n",
        "    (df[\"Rating\"] >= 4)\n",
        "]\n"
      ],
      "metadata": {
        "id": "K9W5N2RdaLqb"
      },
      "execution_count": 11,
      "outputs": []
    },
    {
      "cell_type": "code",
      "source": [
        "for _, row in filtered_feedback.iterrows():\n",
        "    print(f\"User: {row['User_ID']} | Feedback: {row['Feedback']}\")"
      ],
      "metadata": {
        "colab": {
          "base_uri": "https://localhost:8080/"
        },
        "id": "nIpkJH5GaLtJ",
        "outputId": "c1eef161-c2c1-4cb0-c410-ce4f8f674806"
      },
      "execution_count": 12,
      "outputs": [
        {
          "output_type": "stream",
          "name": "stdout",
          "text": [
            "User: 101 | Feedback: Great course, very practical!\n",
            "User: 104 | Feedback: Well explained and detailed\n"
          ]
        }
      ]
    },
    {
      "cell_type": "code",
      "source": [],
      "metadata": {
        "id": "4c3_8Es7aLwt"
      },
      "execution_count": null,
      "outputs": []
    },
    {
      "cell_type": "code",
      "source": [],
      "metadata": {
        "id": "nygErvcCaSNu"
      },
      "execution_count": null,
      "outputs": []
    },
    {
      "cell_type": "code",
      "source": [],
      "metadata": {
        "id": "KGFDdTFLaSQg"
      },
      "execution_count": null,
      "outputs": []
    },
    {
      "cell_type": "code",
      "source": [
        "import pandas as pd"
      ],
      "metadata": {
        "id": "_zJS_dfaaST2"
      },
      "execution_count": 13,
      "outputs": []
    },
    {
      "cell_type": "code",
      "source": [
        "data = {\n",
        "    \"Location\": [\"Hyderabad\", \"Delhi\", \"Mumbai\", \"Chennai\", \"Bengaluru\"],\n",
        "    \"PM2.5\": [120, 180, None, 95, 200],\n",
        "    \"PM10\": [250, None, 180, 140, 220],\n",
        "    \"NO2\": [70, 90, 60, None, 100],\n",
        "    \"SO2\": [15, 20, None, 10, 25],\n",
        "    \"Date\": [\"2025-08-20\", \"2025-08-21\", \"2025-08-22\", \"2025-08-23\", \"2025-08-24\"]\n",
        "}"
      ],
      "metadata": {
        "id": "riOfHzGraSZW"
      },
      "execution_count": 14,
      "outputs": []
    },
    {
      "cell_type": "code",
      "source": [
        "df = pd.DataFrame(data)"
      ],
      "metadata": {
        "id": "2fYyzsq7anmV"
      },
      "execution_count": 15,
      "outputs": []
    },
    {
      "cell_type": "code",
      "source": [
        "print(\"Original Data:\\n\", df, \"\\n\")"
      ],
      "metadata": {
        "colab": {
          "base_uri": "https://localhost:8080/"
        },
        "id": "X4zEPNdKanpv",
        "outputId": "2008628d-e308-40b0-e7e1-c288c8793c42"
      },
      "execution_count": 16,
      "outputs": [
        {
          "output_type": "stream",
          "name": "stdout",
          "text": [
            "Original Data:\n",
            "     Location  PM2.5   PM10    NO2   SO2        Date\n",
            "0  Hyderabad  120.0  250.0   70.0  15.0  2025-08-20\n",
            "1      Delhi  180.0    NaN   90.0  20.0  2025-08-21\n",
            "2     Mumbai    NaN  180.0   60.0   NaN  2025-08-22\n",
            "3    Chennai   95.0  140.0    NaN  10.0  2025-08-23\n",
            "4  Bengaluru  200.0  220.0  100.0  25.0  2025-08-24 \n",
            "\n"
          ]
        }
      ]
    },
    {
      "cell_type": "code",
      "source": [
        "df = df.fillna(method=\"ffill\")\n"
      ],
      "metadata": {
        "colab": {
          "base_uri": "https://localhost:8080/"
        },
        "id": "DxJKwxBkavUc",
        "outputId": "c2ecd590-be4a-4c16-fbd4-36d37d698b4b"
      },
      "execution_count": 17,
      "outputs": [
        {
          "output_type": "stream",
          "name": "stderr",
          "text": [
            "/tmp/ipython-input-3441110583.py:1: FutureWarning: DataFrame.fillna with 'method' is deprecated and will raise in a future version. Use obj.ffill() or obj.bfill() instead.\n",
            "  df = df.fillna(method=\"ffill\")\n"
          ]
        }
      ]
    },
    {
      "cell_type": "code",
      "source": [
        "print(\"After Forward Fill:\\n\", df, \"\\n\")\n"
      ],
      "metadata": {
        "colab": {
          "base_uri": "https://localhost:8080/"
        },
        "id": "bHU2A0m5avXh",
        "outputId": "74a48e4f-cd36-4952-a92c-f1c032a792bb"
      },
      "execution_count": 18,
      "outputs": [
        {
          "output_type": "stream",
          "name": "stdout",
          "text": [
            "After Forward Fill:\n",
            "     Location  PM2.5   PM10    NO2   SO2        Date\n",
            "0  Hyderabad  120.0  250.0   70.0  15.0  2025-08-20\n",
            "1      Delhi  180.0  250.0   90.0  20.0  2025-08-21\n",
            "2     Mumbai  180.0  180.0   60.0  20.0  2025-08-22\n",
            "3    Chennai   95.0  140.0   60.0  10.0  2025-08-23\n",
            "4  Bengaluru  200.0  220.0  100.0  25.0  2025-08-24 \n",
            "\n"
          ]
        }
      ]
    },
    {
      "cell_type": "code",
      "source": [
        "polluted_days = df[(df[\"PM2.5\"] > 150) & (df[\"NO2\"] > 80)]"
      ],
      "metadata": {
        "id": "Q5YDnHu8avbF"
      },
      "execution_count": 19,
      "outputs": []
    },
    {
      "cell_type": "code",
      "source": [
        "print(\"Polluted Days (PM2.5 > 150 and NO2 > 80):\\n\", polluted_days)"
      ],
      "metadata": {
        "colab": {
          "base_uri": "https://localhost:8080/"
        },
        "id": "tUFoEod6a6fL",
        "outputId": "113e06b1-4bf0-4d3d-d6d6-697d8e00f450"
      },
      "execution_count": 20,
      "outputs": [
        {
          "output_type": "stream",
          "name": "stdout",
          "text": [
            "Polluted Days (PM2.5 > 150 and NO2 > 80):\n",
            "     Location  PM2.5   PM10    NO2   SO2        Date\n",
            "1      Delhi  180.0  250.0   90.0  20.0  2025-08-21\n",
            "4  Bengaluru  200.0  220.0  100.0  25.0  2025-08-24\n"
          ]
        }
      ]
    }
  ]
}